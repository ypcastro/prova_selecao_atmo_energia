{
 "cells": [
  {
   "cell_type": "markdown",
   "id": "f7cd904d",
   "metadata": {},
   "source": [
    "# 🧪 Respostas da Prova Técnica\n",
    "\n",
    "Este notebook deve conter as suas respostas para a prova técnica da vaga de Analista de Dados Júnior da ATMO ENERGIA."
   ]
  },
  {
   "cell_type": "markdown",
   "id": "444ba4e6",
   "metadata": {},
   "source": [
    "## 1. Leitura e entendimento dos dados"
   ]
  },
  {
   "cell_type": "code",
   "execution_count": null,
   "id": "19bb6234",
   "metadata": {},
   "outputs": [],
   "source": [
    "# Carregue aqui os arquivos `vazoes.csv` e `posto.csv` com pandas"
   ]
  },
  {
   "cell_type": "code",
   "execution_count": null,
   "id": "5c434699",
   "metadata": {},
   "outputs": [],
   "source": [
    "# Exiba as primeiras linhas dos datasets"
   ]
  },
  {
   "cell_type": "markdown",
   "id": "15247c13",
   "metadata": {},
   "source": [
    "**Comentário:** Descreva brevemente o que você entendeu sobre os dados."
   ]
  },
  {
   "cell_type": "markdown",
   "id": "3ee77652",
   "metadata": {},
   "source": [
    "## 2. Limpeza e pré-processamento"
   ]
  },
  {
   "cell_type": "code",
   "execution_count": null,
   "id": "483cf887",
   "metadata": {},
   "outputs": [],
   "source": [
    "# Verifique valores nulos e tipos de dados"
   ]
  },
  {
   "cell_type": "code",
   "execution_count": null,
   "id": "41c08aac",
   "metadata": {},
   "outputs": [],
   "source": [
    "# Trate valores ausentes ou inconsistentes e comente suas decisões"
   ]
  },
  {
   "cell_type": "markdown",
   "id": "df484b9b",
   "metadata": {},
   "source": [
    "**Comentário:** Explique quais tratamentos foram feitos e o motivo."
   ]
  },
  {
   "cell_type": "markdown",
   "id": "314aa88a",
   "metadata": {},
   "source": [
    "## 3. Análise Estatística Descritiva"
   ]
  },
  {
   "cell_type": "code",
   "execution_count": null,
   "id": "fb8fe9cf",
   "metadata": {},
   "outputs": [],
   "source": [
    "# Calcule estatísticas como média, mediana, desvio-padrão, etc."
   ]
  },
  {
   "cell_type": "code",
   "execution_count": null,
   "id": "116fcbfa",
   "metadata": {},
   "outputs": [],
   "source": [
    "# Explore possíveis correlações"
   ]
  },
  {
   "cell_type": "code",
   "execution_count": null,
   "id": "adb71500",
   "metadata": {},
   "outputs": [],
   "source": [
    "# Crie pelo menos dois gráficos que ajudem a entender o comportamento das vazões"
   ]
  },
  {
   "cell_type": "markdown",
   "id": "e86b9184",
   "metadata": {},
   "source": [
    "**Comentário:** Interprete os resultados obtidos."
   ]
  },
  {
   "cell_type": "markdown",
   "id": "3ea4fabf",
   "metadata": {},
   "source": [
    "## 4. Análise Exploratória e Estimativa de Energia"
   ]
  },
  {
   "cell_type": "code",
   "execution_count": null,
   "id": "306b8b92",
   "metadata": {},
   "outputs": [],
   "source": [
    "# Realize agrupamentos temporais e por atributos como submercado ou bacia"
   ]
  },
  {
   "cell_type": "code",
   "execution_count": null,
   "id": "5a05e64b",
   "metadata": {},
   "outputs": [],
   "source": [
    "# Estime a energia (MW) com base na vazão e na produtibilidade dos postos"
   ]
  },
  {
   "cell_type": "code",
   "execution_count": null,
   "id": "588c9bc2",
   "metadata": {},
   "outputs": [],
   "source": [
    "# Gere dataframes e gráficos para análise"
   ]
  },
  {
   "cell_type": "markdown",
   "id": "6e9a6cb6",
   "metadata": {},
   "source": [
    "**Comentário:** Explique o raciocínio adotado para os agrupamentos."
   ]
  },
  {
   "cell_type": "markdown",
   "id": "95113a7f",
   "metadata": {},
   "source": [
    "## 5. Modelo de Regressão"
   ]
  },
  {
   "cell_type": "code",
   "execution_count": null,
   "id": "4e50261e",
   "metadata": {},
   "outputs": [],
   "source": [
    "# Escolha duas variáveis e aplique uma regressão linear simples"
   ]
  },
  {
   "cell_type": "code",
   "execution_count": null,
   "id": "0370e121",
   "metadata": {},
   "outputs": [],
   "source": [
    "# Avalie os resultados com métricas e gráficos"
   ]
  },
  {
   "cell_type": "markdown",
   "id": "d98c602b",
   "metadata": {},
   "source": [
    "**Comentário:** Interprete os resultados da regressão."
   ]
  },
  {
   "cell_type": "markdown",
   "id": "9442e47d",
   "metadata": {},
   "source": [
    "## ✅ Conclusão"
   ]
  },
  {
   "cell_type": "markdown",
   "id": "8c463256",
   "metadata": {},
   "source": [
    "Faça aqui qualquer consideração final que julgar relevante sobre sua análise ou o processo."
   ]
  }
 ],
 "metadata": {},
 "nbformat": 4,
 "nbformat_minor": 5
}